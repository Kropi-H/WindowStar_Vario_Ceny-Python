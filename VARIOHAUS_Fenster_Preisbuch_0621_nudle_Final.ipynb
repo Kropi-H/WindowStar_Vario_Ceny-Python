{
 "cells": [
  {
   "cell_type": "code",
   "execution_count": 25,
   "id": "ebb5cad0",
   "metadata": {},
   "outputs": [],
   "source": [
    "import pandas as pd\n",
    "import numpy as np\n",
    "import os\n",
    "import itertools\n",
    "from openpyxl import load_workbook\n",
    "from IPython.display import display"
   ]
  },
  {
   "cell_type": "code",
   "execution_count": 26,
   "id": "397d2b2c",
   "metadata": {},
   "outputs": [],
   "source": [
    "# File to be reading\n",
    "file = 'ceník Q12.xlsx'\n",
    "\n",
    "# Sheet Name\n",
    "sheet_name = '4 KŘ PSK'\n",
    "\n",
    "# Which row should be skipped\n",
    "skiprows = 15\n",
    "\n",
    "# Till wich row shold program read rows\n",
    "nrows = 9\n",
    "\n",
    "# Which columns shoud program read\n",
    "usecols = 'A:AH'\n",
    "#usecols = 'J:P'\n",
    "\n",
    "# barva\n",
    "#barva = \"weiss\"\n",
    "barva = \"dekor\"\n",
    "\n",
    "# nová tabulka - jednotlivé položky\n",
    "material = [\"?\"]\n",
    "breite = []\n",
    "hohe = []\n",
    "preis = []\n",
    "preismatrix = [f\"Q12 innen {barva}\"]\n",
    "product_key = [\"PSK 4-Tlg\"]\n",
    "\n",
    "# Cesta k novému souboru\n",
    "path = f\"upraveno_{file}\"\n",
    "sheet = f\"{product_key[0]} {preismatrix[0][-5:]}\"\n",
    "\n",
    "# # Finální tabulka\n",
    "new_data = []"
   ]
  },
  {
   "cell_type": "code",
   "execution_count": 27,
   "id": "f089029b",
   "metadata": {},
   "outputs": [],
   "source": [
    "kec = \"blah\"\n",
    "data = [f\"some text {kec}\"]\n",
    "#print(data[0])"
   ]
  },
  {
   "cell_type": "code",
   "execution_count": 28,
   "id": "da8489ac",
   "metadata": {
    "scrolled": true
   },
   "outputs": [],
   "source": [
    "# Read data from file and specific sheet. Read data from a specific range\n",
    "pd.set_option(\"display.max_row\", None)\n",
    "df = pd.read_excel(file,sheet_name=sheet_name, header = None, skiprows = skiprows, nrows=nrows,  usecols= usecols)\n",
    "df.columns = range(df.columns.size)\n",
    "#display(df)"
   ]
  },
  {
   "cell_type": "code",
   "execution_count": 29,
   "id": "7752304d",
   "metadata": {
    "scrolled": false
   },
   "outputs": [],
   "source": [
    "df = df.replace([np.nan, 'V/Š'], [0, 0], regex=True)\n",
    "df = df.astype('int')\n",
    "#display(df)"
   ]
  },
  {
   "cell_type": "code",
   "execution_count": 30,
   "id": "aa1f5943",
   "metadata": {
    "scrolled": true
   },
   "outputs": [],
   "source": [
    "# Počet řádku v tabulce\n",
    "table_row = len(df)-1\n",
    "#print(table_row)"
   ]
  },
  {
   "cell_type": "code",
   "execution_count": 31,
   "id": "4649ae40",
   "metadata": {
    "scrolled": true
   },
   "outputs": [],
   "source": [
    "# Počet sloupců v tabulce\n",
    "table_column = len(df.columns)-1\n",
    "#print(table_column)"
   ]
  },
  {
   "cell_type": "code",
   "execution_count": 32,
   "id": "12d4ab45",
   "metadata": {
    "scrolled": true
   },
   "outputs": [],
   "source": [
    "# Hohe - Výška\n",
    "for index, row in df.iterrows():\n",
    "    hohe.append(row[0])\n",
    "hohe.pop(0)\n",
    "hohe = [el for el in hohe for i in range(table_column)]\n",
    "#print(hohe)"
   ]
  },
  {
   "cell_type": "code",
   "execution_count": 33,
   "id": "60070dbc",
   "metadata": {},
   "outputs": [],
   "source": [
    "# Breite - Šířka\n",
    "for column in df:\n",
    "    breite.append(df[column][0])\n",
    "breite.pop(0)\n",
    "\n",
    "breite = breite*table_row\n",
    "#print(breite)"
   ]
  },
  {
   "cell_type": "code",
   "execution_count": 34,
   "id": "b76e7486",
   "metadata": {},
   "outputs": [],
   "source": [
    "# Ceny v listu\n",
    "df_list = df.values.tolist()\n",
    "del df_list[0]\n",
    "\n",
    "for i in df_list:\n",
    "    del i[0]\n",
    "\n",
    "preis = list(itertools.chain.from_iterable(df_list))"
   ]
  },
  {
   "cell_type": "code",
   "execution_count": 35,
   "id": "17feaf5c",
   "metadata": {
    "scrolled": true
   },
   "outputs": [],
   "source": [
    "lst = [material *len(preis),breite, hohe, preis, preismatrix*len(preis), product_key*len(preis)]\n",
    "\n",
    "# Vytváření tabulky z listů uvedených v lst\n",
    "table = pd.DataFrame(lst)\n",
    "\n",
    "# Otočení tabulky\n",
    "final_table = table.transpose()\n",
    "\n",
    "# Pojmenování jednotlivých sloupců\n",
    "final_table.columns = [\"Material\", \"Breite\", \"Hohe\", \"Preis\", \"Preismatrix\", \"Product Key\"]\n",
    "\n",
    "# Odstranění nulových hodnot podle sloupce \"Preis\" \n",
    "final_table = final_table[final_table.Preis != 0]\n",
    "#final_table"
   ]
  },
  {
   "cell_type": "code",
   "execution_count": 36,
   "id": "e72650e5",
   "metadata": {
    "scrolled": false
   },
   "outputs": [],
   "source": [
    "if os.path.exists(path):\n",
    "    book = load_workbook(path)\n",
    "    writer = pd.ExcelWriter(path, engine = 'openpyxl')\n",
    "    writer.book = book\n",
    "    final_table.to_excel(writer, sheet_name = sheet, index=False)\n",
    "    writer.close()\n",
    "else:\n",
    "    final_table.to_excel(path, sheet_name = sheet, index=False)"
   ]
  }
 ],
 "metadata": {
  "kernelspec": {
   "display_name": "Python 3 (ipykernel)",
   "language": "python",
   "name": "python3"
  },
  "language_info": {
   "codemirror_mode": {
    "name": "ipython",
    "version": 3
   },
   "file_extension": ".py",
   "mimetype": "text/x-python",
   "name": "python",
   "nbconvert_exporter": "python",
   "pygments_lexer": "ipython3",
   "version": "3.9.13"
  }
 },
 "nbformat": 4,
 "nbformat_minor": 5
}
